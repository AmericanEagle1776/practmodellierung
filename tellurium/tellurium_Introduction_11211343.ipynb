{
 "cells": [
  {
   "cell_type": "markdown",
   "metadata": {},
   "source": [
    "# 1. Example from the lecture in notebook style\n",
    "The model can also be loaded from a string saved in a variable instead of the `simple_model.txt` file:"
   ]
  },
  {
   "cell_type": "code",
   "execution_count": 4,
   "metadata": {},
   "outputs": [
    {
     "data": {
      "image/png": "[encoded data removed]",
      "text/plain": [
       "<Figure size 432x288 with 1 Axes>"
      ]
     },
     "metadata": {},
     "output_type": "display_data"
    }
   ],
   "source": [
    "# import packages\n",
    "import tellurium as te\n",
    "import matplotlib.pyplot as plt\n",
    "import numpy as np\n",
    "%matplotlib inline\n",
    "\n",
    "\n",
    "\n",
    "simple_model = \"\"\"\n",
    "# Reactions\n",
    "R1: A -> B; k1 * A;\n",
    "R2: B -> A; k2 * B;\n",
    "\n",
    "# Initial values\n",
    "A = 10; A has mole;\n",
    "B = 0;\n",
    "\n",
    "# Parameters\n",
    "k1 = 0.1;\n",
    "k2 = 0.01;\n",
    "\"\"\"\n",
    "\n",
    "# load model from string\n",
    "rr = te.loada(simple_model)\n",
    "\n",
    "# Simulate model\n",
    "result = rr.simulate (0, 100, selections=['time','A','B'])\n",
    "\n",
    "# Plot the results\n",
    "rr.plot(result)"
   ]
  },
  {
   "cell_type": "markdown",
   "metadata": {},
   "source": [
    "# 2. What else does a model need and how do we write it in antimony?\n",
    "\n",
    "From the minimal example we know already how to express \n",
    "\n",
    "2.1. <input type=\"checkbox\" disabled checked> Reactions (kinetics)\n",
    "\n",
    "2.2. <input type=\"checkbox\" disabled checked> Species\n",
    "\n",
    "2.3 <input type=\"checkbox\" disabled checked> Parameters\n",
    "\n",
    "2.4 <input type=\"checkbox\" disabled checked> Initial conditions\n",
    "\n",
    "Nevertheless, we will go through them again and then we add: &nbsp;\n",
    "\n",
    "2.5 <input type=\"checkbox\" disabled >  Assignments and ODEs\n",
    "\n",
    "2.6 <input type=\"checkbox\" disabled > Units\n",
    "\n",
    "2.7 <input type=\"checkbox\" disabled >  Compartments\n",
    "\n",
    "2.8 <input type=\"checkbox\" disabled > Events\n",
    "\n",
    "\n",
    "\n",
    "Further things that we sadly can not cover today\n",
    "- Data\n",
    "- Annotations\n",
    "- Environmental conditions\n",
    "- ...\n",
    "\n"
   ]
  },
  {
   "cell_type": "markdown",
   "metadata": {},
   "source": [
    "## 2.1 Reactions\n",
    "#### There are 3 (more or less) important bits in a reaction:\n",
    "\n",
    "1. The **name** of your reaction:\n",
    "  > **name**: A + E -> B + 2C + E; kineticLaw;\n",
    "  \n",
    "  Name is optional. Yet, if no name is given, the fluxes for this reaction cannot be accessed.   \n",
    "&nbsp;\n",
    "\n",
    "2. The **stoichiometry**:\n",
    "\n",
    "  > name: **A + E** -> **B + 2C + E**; kineticLaw;\n",
    "  \n",
    "3. The **kinetic law**:\n",
    "\n",
    "  > name: A + E -> B + 2C + E; **kineticLaw**;\n",
    "\n",
    "  If no kinetic law is given, nothing will happen!\n",
    "  \n",
    "  **Important convention:**  &nbsp;\n",
    "  The kinetic law is always in units of **amount/time**!<sup>1</sup>\n",
    "  \n",
    "  The kinetic law can be written directly behind the reaction or in a additional assignment, for example:\n",
    "   > name: A + E -> B + 2C + E; **kineticLaw**;\n",
    "   \n",
    "   > **kineticLaw** := k1 \\* A \\* E;\n",
    "   \n",
    "In our simple model this part of the model was\n",
    "\n",
    "```# Reactions\n",
    "R1: A -> B; k1 * A; \n",
    "R2: B -> A; k2 * B; \n",
    "```  \n",
    "\n",
    "\n",
    "<div class=\"paragraph\"><p>&#160;<br></p></div>\n",
    "<sup>1</sup> This way it is consistent with stochastic simulations (you can directly run the 'gillespie'-algorithm in tellurium's solver: roadrunner) and furthermore any considerations regarding compartment sizes (even time depending compartment changes or transport reactions) are automatically done by the solver to get the correct concentrations for your species."
   ]
  },
  {
   "cell_type": "markdown",
   "metadata": {},
   "source": [
    "## 2.2, 2.3 & 2.4 Species, Parameters and their Initial values\n",
    "\n",
    "**Every symbol** of the kinetics that is appearing in the stoichiometric part of the reaction equation will be regarded as a **species**. Setting its initial value can be done as in the simple model with\n",
    "\n",
    "```# Initial values\n",
    "A = 10;\n",
    "B = 0;```\n",
    "\n",
    "If no initial value was assigned, it is set to `A = 0;` per default.\n",
    "\n",
    "**Every symbol** that is **not appearing** there will need to be defined afterwards. Otherwise, an error will tell you to do so, since there is no default value. In our simple model we had the following **parameters**:\n",
    "\n",
    "```# Parameters\n",
    "k1 = 0.01;\n",
    "k2 = 1;```"
   ]
  },
  {
   "cell_type": "markdown",
   "metadata": {},
   "source": [
    "## 2.5 Assignments and ODEs\n",
    "\n",
    "There are 3 different ways to assign values in antimony:\n",
    "\n",
    "1. This \" = \" is a simple assignment, basically an initialization:\n",
    "\n",
    "    > ```parameter = 5\n",
    "    species = 1\n",
    "    species2 = species + parameter``` \n",
    "\n",
    "2. This \" := \" is a time-dependend assignment, the variable at the left will adapt, if the right hand side changes:\n",
    "\n",
    "    > ```species0 := 3 * time\n",
    "    species1 := species0```\n",
    "    \n",
    "3. This \" '= \" will create an ODE:\n",
    "\n",
    "    > ```species'= k * species  ```\n",
    "\n",
    "\n",
    "<div class=\"paragraph\"><p>&#160;<br></p></div>\n",
    "Note: ODEs are a bit different from the reaction formalism. Should you use compartments, you will have to care for the right handling of transport reactions between compartments yourself."
   ]
  },
  {
   "cell_type": "markdown",
   "metadata": {},
   "source": [
    "### Hands on! Add and test the additional concepts for the rest of our lecture in our simple model:\n",
    "Alternatively, you can modify the python script that you wrote already (simple_model.txt and runmodel.py)."
   ]
  },
  {
   "cell_type": "markdown",
   "metadata": {},
   "source": [
    "## 2.6 Units\n",
    "Even though it might be tempting while playing with toymodels, it is *never* advisable to introduce elements to a model that do not carry a unit.\n",
    "\n",
    "Units can be defined by using a list of **'base' units** (mostly SI and SI-derived): \n",
    "<img src=\"img/base-units.png\">\n",
    "\n",
    "Or you can define them by yourself:\n",
    "\n",
    "```# Units\n",
    "unit minute = 60 seconds;\n",
    "unit hour = 3600 seconds;\n",
    "unit alienliters = 0.123 liters;\n",
    "unit fL = 1.e-15 liters;```<sup>1</sup>\n",
    "\n",
    "\n",
    "Use them to assign the units right after the initial value or later in the code:\n",
    "\n",
    "> A = 10 item;\n",
    "\n",
    "> A is item;\n",
    "\n",
    "'item' stands for a number (e.g. particles) - you need to have an interpretation of what it means.\n",
    "\n",
    "**Excercise: Add the code for amounts to the following simple_model**. Don't forget the correct parameter units!\n",
    "\n",
    "<div class=\"paragraph\"><p>&#160;<br></p></div>\n",
    "<sup>1</sup> Note: Adding an ‘s’ to the end of a unit name to make it plural is fine when defining a unit: ‘3600 second‘ is the same as ‘3600 seconds‘."
   ]
  },
  {
   "cell_type": "markdown",
   "metadata": {},
   "source": [
    "## 2.7 Compartments\n",
    "\n",
    "After we used ```unit fL = 1.e-15 liters;``` to define the unit 'femtoliter', we can use it (or any arbitrarily defined units) to define compartments: \n",
    "\n",
    "```cell = 10 fL;\n",
    "mitochondria = 10 fL;```\n",
    "\n",
    "or alternatively\n",
    "\n",
    "``` mitochondria = 10;\n",
    "mitochondria has fL;\n",
    "```"
   ]
  },
  {
   "cell_type": "code",
   "execution_count": 20,
   "metadata": {},
   "outputs": [
    {
     "data": {
      "image/png": "[encoded data removed]",
      "text/plain": [
       "<Figure size 432x288 with 1 Axes>"
      ]
     },
     "metadata": {},
     "output_type": "display_data"
    }
   ],
   "source": [
    "# Define the model and add compartments\n",
    "simple_model_with_compartments = \"\"\"\n",
    "#units\n",
    "unit fL = 1.e-15 liters;\n",
    "\n",
    "# Reactions\n",
    "R1: A -> B; k1 * A;\n",
    "R2: B -> A; k2 * B;\n",
    "\n",
    "# Initial values\n",
    "A = 10;\n",
    "B = 0;\n",
    "\n",
    "# Parameters\n",
    "k1 = 0.1;\n",
    "k2 = 0.01;\n",
    "\n",
    "# 2.7 Events\n",
    "# Compartmentalize our model!\n",
    "\n",
    "compartment mitochrondria;\n",
    "compartment cell;\n",
    "mitochondria = 10 fL;\n",
    "A in mitochondria;\n",
    "cell = 10 fL;\n",
    "B in cell;\n",
    "\n",
    "\"\"\"\n",
    "\n",
    "# Load model\n",
    "rr = te.loada(simple_model_with_compartments)\n",
    "# Simulate model\n",
    "result = rr.simulate (0, 100)\n",
    "# Plot the results\n",
    "rr.plot(result)"
   ]
  },
  {
   "cell_type": "markdown",
   "metadata": {},
   "source": [
    "## 2.8 Events\n",
    "\n",
    "We can add events to the system that change it's behavior conditional to a boolean (True or False) statement. This could look like: \n",
    "\n",
    "> ```# Events\n",
    "E1: at (A < 5): k2 = 1;\n",
    "E2: at (time > 50): A = 5;```\n",
    "\n"
   ]
  },
  {
   "cell_type": "code",
   "execution_count": 28,
   "metadata": {},
   "outputs": [
    {
     "data": {
      "image/png": "[encoded data removed]",
      "text/plain": [
       "<Figure size 432x288 with 1 Axes>"
      ]
     },
     "metadata": {},
     "output_type": "display_data"
    }
   ],
   "source": [
    "# Define the model\n",
    "simple_model_with_events = \"\"\"\n",
    "# Reactions\n",
    "R1: A -> B; k1 * A;\n",
    "R2: B -> A; k2 * B;\n",
    "\n",
    "# Initial values\n",
    "A = 10; \n",
    "B = 0;\n",
    "\n",
    "# Parameters\n",
    "k1 = 0.1;\n",
    "k2 = 0.01;\n",
    "\n",
    "# 2.8 Events\n",
    "# Add some events!\n",
    "E1: at (A < 5): A = 10;\n",
    "\"\"\"\n",
    "\n",
    "# Load model\n",
    "rr = te.loada(simple_model_with_events)\n",
    "# Simulate model\n",
    "result = rr.simulate (0, 100, 1001)\n",
    "# Plot the results\n",
    "rr.plot(result)"
   ]
  },
  {
   "cell_type": "markdown",
   "metadata": {},
   "source": [
    "## 2.9 Parameterizing the model - an exercise\n",
    "Let's say you want to analyse a particular dynamical system, and that system is accidentaly described by our ```simple_model```. From the literature you had deduced the structure of the system, which is reflected in its reactions. Now you have to parameterize the system to make it relevant for your particular biological application. To fully define the system, you are missing the values of the parameters k<sub>1</sub>, k<sub>2</sub> and initial values of species A and B. Your experimentalist coleagues will kindly provide measurements of the species concentrations in $\\frac{mmol}{gCDW}$, where gCDW is gram of cell dry weight. But since that might take some time, you want to have the model ready and parametrized by then. So you go hunting for parameters throughout published literature.\n",
    "\n",
    "You find one paper estimating k<sub>1</sub> to be around 1 [s<sup>-1</sup>].\n",
    "You are unable to find the estimate for k<sub>2</sub>, but you find a fluxomics paper which measured the flux through the reaction to be $\\nu = 2~[\\frac{mmol}{h\\times gCDW}]$. On the last page of the supplementary document S12 they mention that they also measured the dry cell weight to be $200~[fg]$. If you would know the concentration of B, you could get an idea of a physiological range of k<sub>2</sub>.\n",
    "You are lucky to find a metabolomic measurement experiment estimating their numbers to be $A_m = 55$ and $B_m = 100$ $[\\frac{pmol}{10^6 cells}]$. They don't mention the cell volume or dry weight, making it difficult to estimate the concentration. The experimental conditions are not exactly the same as in the fluxomics experiment, but after a while you decide to turn the blind eye and just assume that the cell dry weight is the same: $200~[fg]$.\n",
    "\n",
    "<div class=\"paragraph\"><p>&#160;<br></p></div>\n",
    "<img src=\"img/unit-conversion.png\">\n",
    "<div class=\"paragraph\"><p>&#160;<br></p></div>\n",
    "<img src=\"img/unit-conversion-formulae.png\" width=\"500\">"
   ]
  },
  {
   "cell_type": "markdown",
   "metadata": {},
   "source": [
    "# 3. What can we do with our model?"
   ]
  },
  {
   "cell_type": "markdown",
   "metadata": {},
   "source": [
    "## 3.1 Plot adjustments with `selections`\n",
    "\n",
    "We can use `selections` to tell our plot what species to show. The order defines what is shown on the x-axis (first item of `selections`) or as dependent on that species (2nd to n-th item of `selections`). This will usually look like this for our simple model:\n",
    "\n",
    "```# Simulate model\n",
    "result = rr.simulate (0, 100, selections=['time','A','B'])\n",
    "```\n",
    "\n",
    "Notice that you can also plot your parameters. This can be especially interesting if they are defined by assignments or if events alter your system.\n",
    "\n",
    "**Question**: How can we do a plot in the phasespace of our model? Try it."
   ]
  },
  {
   "cell_type": "code",
   "execution_count": null,
   "metadata": {},
   "outputs": [],
   "source": [
    "rr = te.loada(simple_model)\n",
    "result = rr.simulate (0, 100, selections=['A','B'])\n",
    "rr.plot(ytitle='B',xtitle='A')"
   ]
  },
  {
   "cell_type": "markdown",
   "metadata": {},
   "source": [
    "## 3.2 Parameter Scan\n",
    "\n",
    "How to reset models:\n",
    "\n",
    "```rr.resetToOrigin()```\n",
    " \n",
    "This is similar to freshly loading the model. Not doing this will mean you start your next simulation from the last state (you \"continue\" the simulation).\n",
    "\n",
    "Now you can change parameters in a loop (remember to reset the model in the loop)\n",
    "\n",
    "Alternatively, you can use the built in parameter scan"
   ]
  },
  {
   "cell_type": "code",
   "execution_count": null,
   "metadata": {},
   "outputs": [],
   "source": [
    "## Example for the self-made parameter scan\n",
    "for k1 in np.arange(1.0, 10, 1):\n",
    "    rr.resetToOrigin()\n",
    "    rr.k1 = k1\n",
    "    m = rr.simulate (0, 5, 100, ['time', 'A'])\n",
    "    te.plotArray (m, show=False, labels=['k1='+str(k1)], resetColorCycle=False)\n",
    "te.show()"
   ]
  },
  {
   "cell_type": "code",
   "execution_count": null,
   "metadata": {},
   "outputs": [],
   "source": [
    "## Example for the built-in parameter scan\n",
    "# load the parameterscan functionality of tellurium \n",
    "from tellurium import ParameterScan\n",
    "\n",
    "rr.resetToOrigin()\n",
    "p = ParameterScan(rr,startTime=0,endTime=5,numberOfPoints=100)\n",
    "\n",
    "p.startValue = 1\n",
    "p.endValue = 9\n",
    "p.polyNumber = 9\n",
    "p.value = 'k1'\n",
    "p.selection = ['A']\n",
    "\n",
    "p.plotGraduatedArray()"
   ]
  },
  {
   "cell_type": "markdown",
   "metadata": {},
   "source": [
    "## 3.3 Stochastic simulations with Gillespie direct method (SSA)\n",
    "\n",
    "We can change the integrator from ODE simulations to the stochastic Gillespie algorithm. The comand is the following\n",
    "\n",
    "```rr.integrator = 'gillespie'```\n",
    "\n",
    "There are some caveats though... . But you'lll find out. =)\n",
    "\n"
   ]
  },
  {
   "cell_type": "markdown",
   "metadata": {},
   "source": [
    "## 3.4 Save to / Load from SBML\n",
    "\n",
    "Why? Because that's how you share your model and how others share theirs! Reuseability is one of the main ingredient of good science. To convert our antimony model to SBML, use"
   ]
  },
  {
   "cell_type": "code",
   "execution_count": null,
   "metadata": {},
   "outputs": [],
   "source": [
    "sbml_model = te.antimonyToSBML(simple_model)\n",
    "# print(sbml_model) # uncomment to see how cool an SBML file looks!"
   ]
  },
  {
   "cell_type": "markdown",
   "metadata": {},
   "source": [
    "and save it with"
   ]
  },
  {
   "cell_type": "code",
   "execution_count": null,
   "metadata": {},
   "outputs": [],
   "source": [
    "with open('simple_model.xml','w') as f:\n",
    "    f.write(sbml_model)"
   ]
  },
  {
   "cell_type": "markdown",
   "metadata": {},
   "source": [
    "Antimony (bio-)models can be found in the library http://antimony.sourceforge.net/antimony-biomodels.html\n",
    "\n",
    "There are also **test cases** built into tellurium already. You can access them via `te.listTestModels()` and load them to tellurium: "
   ]
  },
  {
   "cell_type": "code",
   "execution_count": null,
   "metadata": {
    "scrolled": true
   },
   "outputs": [],
   "source": [
    "import tellurium as te\n",
    "print te.listTestModels()\n",
    "\n",
    "r = te.loadTestModel('feedback.xml')\n",
    "r.simulate()\n",
    "r.plot()"
   ]
  },
  {
   "cell_type": "markdown",
   "metadata": {},
   "source": []
  },
  {
   "cell_type": "markdown",
   "metadata": {},
   "source": [
    "# 4. Again the secret on the bumpy road to success: Don't hesitate to google!\n",
    "\n",
    "Plus: Use the \"Search\" function of your browser extensively on the following pages\n",
    "\n",
    "Full documentation http://tellurium.readthedocs.io/en/latest/index.html\n",
    "\n",
    "Short documentation http://tellurium.analogmachine.org/documentation/antimony-documentation"
   ]
  }
 ],
 "metadata": {
  "kernelspec": {
   "display_name": "Python 3",
   "language": "python",
   "name": "python3"
  },
  "language_info": {
   "codemirror_mode": {
    "name": "ipython",
    "version": 3
   },
   "file_extension": ".py",
   "mimetype": "text/x-python",
   "name": "python",
   "nbconvert_exporter": "python",
   "pygments_lexer": "ipython3",
   "version": "3.6.7"
  }
 },
 "nbformat": 4,
 "nbformat_minor": 1
}
