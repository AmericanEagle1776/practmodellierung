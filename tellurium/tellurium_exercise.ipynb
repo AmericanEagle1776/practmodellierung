{
 "cells": [
  {
   "cell_type": "markdown",
   "metadata": {},
   "source": [
    "# A slightly more complicated example: Lotka-Volterra System\n",
    "Implement the Lotka-Voltera reactions we already know (at least since Tuesday) in antimony\n",
    "\n",
    "$$ \\begin{align} \n",
    "r1:& \\;\\; X \\rightarrow 2 X \\\\ \n",
    "r2:& \\;\\; X + Y \\rightarrow 2 Y \\\\\n",
    "r3:& \\;\\; Y \\rightarrow \\varnothing \n",
    "\\end{align} $$\n",
    "\n",
    "\n",
    "Assume that all reactions follow mass-action kinetics with parameters \n",
    "\n",
    "$$ \\begin{align} \n",
    "k_1 & = 0.1~s^{-1}\\\\  \n",
    "k_2 & = 0.01~\\# / s\\\\\n",
    "k_3 & = 0.2~s^{-1}. \n",
    "\\end{align} $$\n",
    "\n",
    "The initial conditions are : $X(0) = 20,~Y(0) = 5$.\n",
    "\n",
    "**Excercise:**\n",
    "\n",
    "1. **Use antimony to write the model structure**\n",
    "2. **Simulate the model for 100 seconds** \n",
    "3. **Plot the results as: a) Timecourses and b) Phaseplot**\n",
    "\n",
    "**For the faster Zerglings in the control group:**\n",
    "* **With the phaseplot you can scan the initial conditions to see if you find a limitcycle. Do you?**"
   ]
  },
  {
   "cell_type": "code",
   "execution_count": 1,
   "metadata": {},
   "outputs": [
    {
     "ename": "ImportError",
     "evalue": "No module named tellurium",
     "output_type": "error",
     "traceback": [
      "\u001b[0;31m---------------------------------------------------------------------------\u001b[0m",
      "\u001b[0;31mImportError\u001b[0m                               Traceback (most recent call last)",
      "\u001b[0;32m<ipython-input-1-4135e9ffc384>\u001b[0m in \u001b[0;36m<module>\u001b[0;34m()\u001b[0m\n\u001b[1;32m      1\u001b[0m \u001b[0;31m# Import packages\u001b[0m\u001b[0;34m\u001b[0m\u001b[0;34m\u001b[0m\u001b[0;34m\u001b[0m\u001b[0m\n\u001b[0;32m----> 2\u001b[0;31m \u001b[0;32mimport\u001b[0m \u001b[0mtellurium\u001b[0m \u001b[0;32mas\u001b[0m \u001b[0mte\u001b[0m\u001b[0;34m\u001b[0m\u001b[0;34m\u001b[0m\u001b[0m\n\u001b[0m\u001b[1;32m      3\u001b[0m \u001b[0;32mimport\u001b[0m \u001b[0mmatplotlib\u001b[0m\u001b[0;34m.\u001b[0m\u001b[0mpyplot\u001b[0m \u001b[0;32mas\u001b[0m \u001b[0mplt\u001b[0m\u001b[0;34m\u001b[0m\u001b[0;34m\u001b[0m\u001b[0m\n\u001b[1;32m      4\u001b[0m \u001b[0;32mimport\u001b[0m \u001b[0mnumpy\u001b[0m \u001b[0;32mas\u001b[0m \u001b[0mnp\u001b[0m\u001b[0;34m\u001b[0m\u001b[0;34m\u001b[0m\u001b[0m\n\u001b[1;32m      5\u001b[0m \u001b[0mget_ipython\u001b[0m\u001b[0;34m(\u001b[0m\u001b[0;34m)\u001b[0m\u001b[0;34m.\u001b[0m\u001b[0mmagic\u001b[0m\u001b[0;34m(\u001b[0m\u001b[0;34mu'matplotlib inline'\u001b[0m\u001b[0;34m)\u001b[0m\u001b[0;34m\u001b[0m\u001b[0;34m\u001b[0m\u001b[0m\n",
      "\u001b[0;31mImportError\u001b[0m: No module named tellurium"
     ]
    }
   ],
   "source": [
    "# Import packages\n",
    "import tellurium as te\n",
    "import matplotlib.pyplot as plt\n",
    "import numpy as np\n",
    "%matplotlib inline  \n",
    "\n",
    "lotka_volterra = \"\"\"\n",
    "# Reactions or ODEs\n",
    "r1: x -> 2x; k1 * x;\n",
    "r2: x + y -> 2y; k2 * x *y;\n",
    "r3: y -> ; k3 * y;\n",
    "\n",
    "# Species (and Initial values)\n",
    "x = 20;\n",
    "y = 5;\n",
    "\n",
    "# Parameters\n",
    "k1 = 0.1 item/second\n",
    "k2 = 001 item/second\n",
    "k3 = 0.2 item/second\n",
    "\"\"\"\n",
    "\n",
    "# Load the model\n",
    "rr = te.loada(lotka_volterra)\n",
    "\n",
    "# Simulate it (here you choose what to plot)\n",
    "result = rr.simulate(0, 100, selections=['A', 'B'])\n",
    "\n",
    "# Plot and annotate the results (include axis descriptions)\n",
    "\n",
    "rr.plot(ytitle='B',xtitle='A')\n",
    "\n",
    "# For the fast coders: Include here a parameter scan\n",
    "\n",
    "\n",
    "# Comment: Later you can do this in a better and prettier way in matplotlib (Lecture on Friday)"
   ]
  },
  {
   "cell_type": "markdown",
   "metadata": {},
   "source": [
    "# Lotka-Volterra ... Storymode\n",
    "\n",
    "Now, obviously this system is not very close to reality. To see this, you can check what happens if you change the integrator to stochastic simulations with ```rr.integrator='gillespie'```.<sup>1</sup> Soooo, let's make it even more magical! For this, we enter **STORY MODE**!!1!<sup>2</sup>\n",
    "\n",
    "Here is the setting:\n",
    "\n",
    "Our protagonists (the beautiful sheep of Billy the Squid) are living on a sunny, huuuuge farm.<sup>3</sup> This farm would be very safe and secure, if it wasn't for the big baaaaad wolves in the dark and equally huuuuge woods. They regularly sneak on the farm, wearing self-knitted sheep disguises. In this form they can eat as much sheep as they want on the farm and procreate. Of course, wolves die in all places, since they are not nearly as divine and immortal as the holy white sheep. They can only disappear into wolf stomachs but otherwise will live on forever. Unfortunately, they are quite gullible and stupid and thus get lost in the woods just as often ... a good day for the knitting wolves who then can also procreate.\n",
    "\n",
    "This story goes on forever and ever and ever ...... and ever after?\n",
    "\n",
    "**Excercise:**\n",
    "\n",
    "1. **Find your own version (aka. parametrization) of the story and bring it to paper in an antimony model**\n",
    "2. **Tell (aka. simulate) the story for an appropriate time frame to tell (aka. plot) it until the 'happily ever after' (or NOT?)** \n",
    "3. **Introduce Billy the Squid to the story who is cleansing the farm every day at 10am from dressed up wolves**\n",
    "4. **Do whatever you want with the story, aka. make it your own! Aliens experimenting to create killer sheep that eat wolves? No problemo. Introducing an overcrowding sheep heaven and wolf hell? Easy. Just ... mind the time or continue at home. ;D**\n",
    "\n",
    "\n",
    "<div class=\"paragraph\"><p>&#160;<br></p></div>\n",
    "<sup>1</sup> Note that this is only possible if you used reactions to implement the model in antimony.\n",
    "\n",
    "<sup>2</sup> If you don't like story modes, skip this part and read on below the next cell. \n",
    "\n",
    "<sup>3</sup> The term 'huuuuge' stands for 100 acres of land."
   ]
  },
  {
   "cell_type": "code",
   "execution_count": null,
   "metadata": {},
   "outputs": [],
   "source": [
    "lotka_volterra = \"\"\"\n",
    "# Compartments\n",
    "\n",
    "# Reactions or ODEs\n",
    "\n",
    "# Species (and Initial values)\n",
    "\n",
    "# Parameters\n",
    "\"\"\"\n",
    "\n",
    "# Load the model\n",
    "\n",
    "# Simulate it (here you choose what to plot)\n",
    "\n",
    "# Plot and annotate the results (include axis descriptions)\n"
   ]
  },
  {
   "cell_type": "markdown",
   "metadata": {},
   "source": [
    "For the ones who don't like tales:\n",
    "\n",
    "**Excercise:**\n",
    "\n",
    "1. **Write an antimony model for an extended Lotka-Volterra equation system:**\n",
    " * Inlcude two compartments\n",
    " * Each compartment should comprise one Lotka-Volterra system (this means you will have to double your species and reactions!)\n",
    " * Define exchange reactions for both X and Y between the two compartments\n",
    "<div class=\"paragraph\"><p>&#160;<br></p></div>\n",
    "2. **Simulate and plot it** ... boring, I know."
   ]
  },
  {
   "cell_type": "code",
   "execution_count": null,
   "metadata": {},
   "outputs": [],
   "source": []
  }
 ],
 "metadata": {
  "kernelspec": {
   "display_name": "Python 2",
   "language": "python",
   "name": "python2"
  },
  "language_info": {
   "codemirror_mode": {
    "name": "ipython",
    "version": 2
   },
   "file_extension": ".py",
   "mimetype": "text/x-python",
   "name": "python",
   "nbconvert_exporter": "python",
   "pygments_lexer": "ipython2",
   "version": "2.7.15+"
  }
 },
 "nbformat": 4,
 "nbformat_minor": 1
}
