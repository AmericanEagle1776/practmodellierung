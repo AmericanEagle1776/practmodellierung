{
 "cells": [
  {
   "cell_type": "markdown",
   "metadata": {},
   "source": [
    "# Plotting in Python\n",
    " \n",
    " Python does not have built in plotting capabilities, but there is a plethora of useful packages specialized to all kinds of plots. You have seen already in the tellurium lectures that some specisl-purpose packages come with their own plotting funtions. However, There are also dedicated plotting packages that allow you to make it nice and fancy.\n",
    " \n",
    " Here are some examples:\n",
    "\n",
    "- [Matplotlib](http://matplotlib.org/gallery.html )\n",
    "  \n",
    "  Matplotlib is the standard when it comes to plotting in Python. It is very useful for visualization for publications and can also be included in applications.\n",
    "  <img src=\"http://matplotlib.org/_images/fill_demo_features.png\" width=\"100\">\n",
    "- [Bokeh](http://bokeh.pydata.org/en/latest/ )\n",
    "\n",
    "  Bokeh is useful to create beautiful interactive plots.\n",
    "   <img src=\"http://bokeh.pydata.org/en/latest/_images/stocks_t.png\" width=\"100\">\n",
    "- [Plotly](https://plot.ly/python/)\n",
    "\n",
    "  Similar to Bokeh, but more flexible. Plotly has api to other programming languages and a nice webinterface to style plots.\n",
    "   <img src=\"http://images.plot.ly/plotly-documentation/thumbnail/wind-rose.jpg\" width=\"100\">\n",
    "\n",
    "\n"
   ]
  },
  {
   "cell_type": "markdown",
   "metadata": {},
   "source": [
    "# Matplotlib\n",
    "In this course we will use matplotlib. \n",
    "\n",
    "We import `matplotlib.pyplot` containing many handy functions for plotting and styling of the plot.\n",
    "\n",
    "In raw python, plots are created by `plot` commands but not displayed directly, usually you need to use the `plt.show()` command to show the figure on screen.\n",
    "\n",
    "```{python}\n",
    "plt.plot(x,y)\n",
    "plt.show()\n",
    "```\n",
    "\n",
    "In this notebook we do not need to do this, because Jupyter takes care of that if we use `%matplotlib inline` command."
   ]
  },
  {
   "cell_type": "code",
   "execution_count": null,
   "metadata": {},
   "outputs": [],
   "source": [
    "import matplotlib.pyplot as plt     # and this is for plotting\n",
    "%matplotlib inline"
   ]
  },
  {
   "cell_type": "markdown",
   "metadata": {},
   "source": [
    "## 1. My first plot in matplotlib\n",
    "\n",
    "Originating from MatLab, matplotlib shares the general structure of plots and many plotting functions with the plotting structures there. Generally, the plots are created on axes, i.e. coordinate systems, that are localized in figures. The properties of the plotted elements (lines, areas, dots, histograms ...) as well as of the coordinate systems (ticks, labels, axes ...) can be modified individually after the creation of the plot.\n",
    "\n",
    "   <img src=\"https://files.realpython.com/media/fig_map.bc8c7cabd823.png\" width=\"300\">\n",
    "  \n",
    "\n",
    "To now do a very simple x-y-plot, we will need  just the command ```plt.plot```. (and numpy, for demonstrative purposes :)\n"
   ]
  },
  {
   "cell_type": "code",
   "execution_count": null,
   "metadata": {},
   "outputs": [],
   "source": [
    "import numpy as np         # we will need numpy to generate something we can plot\n",
    "\n",
    "x=np.linspace(0, 20, 200)  # generate some data to plot\n",
    "y=np.sin(x)**3\n",
    "\n",
    "# plt.plot(x,y)"
   ]
  },
  {
   "cell_type": "markdown",
   "metadata": {},
   "source": [
    "## 2. Prettifying the plot\n",
    "\n",
    "There are two different ways of modyfying the plot apperance:\n",
    "1. You can style elements that are already present in your plot with the ```plt.setp``` function.\n",
    "2. You can add annotations (titles, legends, arrows, text ...) with additional [functions](https://matplotlib.org/api/_as_gen/matplotlib.pyplot.html#module-matplotlib.pyplot)\n"
   ]
  },
  {
   "cell_type": "markdown",
   "metadata": {},
   "source": [
    "### 2.1 Line styling ```plt.setp```\n",
    "\n",
    "\n",
    "Line style arguments include:\n",
    "\n",
    "- Width  ```linewidth = 3```\n",
    "- Line style (dotted etc)  ```linestyle = '-.'```\n",
    "- Color  ```color = 'k'```\n",
    "- Markers  ```marker = '.', markerfacecolor = 'r' ```\n",
    "\n",
    "\n",
    "Some recommendations\n",
    "\n",
    "- Keep it simple\n",
    "- Plot lines slightly thicker than axes lines\n",
    "- Use markers for measuremets (data), lines for simulations (continious variables)\n"
   ]
  },
  {
   "cell_type": "code",
   "execution_count": null,
   "metadata": {},
   "outputs": [],
   "source": [
    "# by running plt.setp on the handle you can change different attributes of the line in handle h\n",
    "# h = plt.plot(x,y) \n",
    "# plt.setp(h,marker = 'o', linestyle = 'none',linewidth = 3,color = 'k', markerfacecolor = 'r') \n",
    "\n",
    "# alternatively you can specify these in the plot command directly\n",
    "# plt.plot(x,y,marker = 'o', linestyle = 'none',linewidth = 3,color = 'k', markerfacecolor = 'r') "
   ]
  },
  {
   "cell_type": "markdown",
   "metadata": {},
   "source": [
    "### 2.2 Annotations (additional functions working on the axes)\n",
    "Every plot needs\n",
    "\n",
    "- axes labels ```ax.set_xlabel, ax.set_ylabel```\n",
    "- a legend ```ax.legend```\n",
    "- readable axes ticks ``` ax.xaxis.set_ticks```\n",
    "\n",
    "Additional features\n",
    "\n",
    "- annotations of interesting points  ```plt.text```, ```plt.arrow```,...\n",
    "\n",
    "\n",
    "Some recommendations\n",
    "\n",
    "- Keep it simple\n",
    "- Make the fonts larger (They are always too small!)\n",
    "\n",
    "\n",
    "Please note: There are almost always several ways to do things in matplotlib. For example the axis labels can be set via ```plt.xlabel``` directly, by modifying the axes with the function ```ax.set_xlabel``` or acessing the corresponding subobject of the axis object ```ax.xaxis.set_ticks```. All three get the same result, you are free to choose what you like best!"
   ]
  },
  {
   "cell_type": "code",
   "execution_count": null,
   "metadata": {
    "scrolled": true
   },
   "outputs": [],
   "source": [
    "# additonal functions to create annotations on axes (so we first need to create axes! On a figure!)\n",
    "#fig = plt.figure()\n",
    "#ax = plt.axes()\n",
    "\n",
    "# plot two things\n",
    "random = np.random.random(x.shape)- 0.5 #  add some noise\n",
    "#ax.plot(x, y, label=\"A weird sine\")\n",
    "#ax.plot(x, random, label=\"Some noise\")\n",
    "\n",
    "# add legend\n",
    "#ax.legend() # with the labels of ax.plot\n",
    "#ax.legend(['$\\sin(x)^3$','Oh noise!']) # with custom text (also latex)\n",
    "\n",
    "# axes ticks\n",
    "#ax.xaxis.set_ticks([0,5,20]) # locations as numbers\n",
    "#ax.xaxis.set_ticklabels(['0','five','20'], fontsize = '20') # styled strings\n",
    "\n",
    "# axes limits\n",
    "#ax.set_ylim([0, 1.3])\n",
    "\n",
    "# axes labels\n",
    "#ax.set_xlabel('This ix x')\n",
    "#ax.set_ylabel('This is y',fontsize = 15)\n",
    "\n",
    "# an annotation\n",
    "#ax.text(1.7,1.01,'Here is the top!') # This is more for written work than for presentations\n",
    "\n",
    "# grids \n",
    "# ax.grid()"
   ]
  },
  {
   "cell_type": "markdown",
   "metadata": {},
   "source": [
    "#### How am I supposed to know all those things??\n",
    "\n",
    "Matplotlib documentation! \n",
    "\n",
    "- for the specific function [```ax.text()```](https://matplotlib.org/api/text_api.html?highlight=text#module-matplotlib.text)\n",
    "\n",
    "- for further arguments that can be passed to a specific type of plot element (i.e. all line plots, all text elements) [```TextProperites```](https://matplotlib.org/api/text_api.html?highlight=text#matplotlib.text.Text)"
   ]
  },
  {
   "cell_type": "markdown",
   "metadata": {},
   "source": [
    "### 2.3 Subplots\n",
    "\n",
    "Witht he concept of axes, we can now draw several plots next to each other in individual coordinate systems - in so calles subplots. This can be handy for comparing (many) things that would overcrowd a single plot.\n",
    "\n",
    "The `subplot` command creates new *axis* in a regular grid that can be easily accessed. Using the subplot command we can plot different data on each of the created axis.\n",
    "\n",
    "![](http://www.labri.fr/perso/nrougier/teaching/matplotlib/figures/subplot-grid.png)\n",
    "\n",
    "Calling the subplot command with a different 3rd argument can be seen as moving the cursor to a different location. Each plot directive after the `subplot` call will be done on the according subplot/axes. Alternatively, as above, you gan use the ``` ax ``` objects to access the axes subplot axes.\n",
    "\n",
    "Matplotlib also uses the concept of *current plot*. Whenever you issue a `plot` command, it is drawn on your current figure if there is one, otherwise it opens a new plot."
   ]
  },
  {
   "cell_type": "code",
   "execution_count": null,
   "metadata": {},
   "outputs": [],
   "source": [
    "# square grid of 4 subplots\n",
    "plt.figure(figsize=(9,6)) # generate slightly larger figure\n",
    "\n",
    "# access first 3 one with ax.\n",
    "ax1 = plt.subplot(2,2,1)\n",
    "ax1.plot(x, y)\n",
    "ax2 = plt.subplot(2,2,2)\n",
    "ax2.plot(y, x)\n",
    "ax3 = plt.subplot(2,2,3)\n",
    "ax3.plot(x,random)\n",
    "\n",
    "\n",
    "# acess the last with plt. (linear)\n",
    "plt.subplot(2,2,4)\n",
    "plt.plot(y,random)\n",
    "\n"
   ]
  },
  {
   "cell_type": "markdown",
   "metadata": {},
   "source": [
    "### 2.4 Plot styles\n",
    "\n",
    "You can use predifined (nicer?) styles for your plot by loading ```style sheets```. The will chage the overall appreance, defualt colors, text styles etc. of all figures. "
   ]
  },
  {
   "cell_type": "code",
   "execution_count": null,
   "metadata": {},
   "outputs": [],
   "source": [
    "print(plt.style.available)\n"
   ]
  },
  {
   "cell_type": "code",
   "execution_count": null,
   "metadata": {},
   "outputs": [],
   "source": [
    "plt.style.use('ggplot')\n",
    "plt.plot(x, y)"
   ]
  },
  {
   "cell_type": "markdown",
   "metadata": {},
   "source": [
    "## 3. Specialized plots\n",
    "\n",
    "|Line|Histogram|Bar|Pie|\n",
    "| ----------- | ----------- |----------- |----------- |\n",
    "|[<img src=\"https://matplotlib.org/_images/sphx_glr_cohere_001.png\" width = \"200\">](https://matplotlib.org/gallery/lines_bars_and_markers/cohere.html#sphx-glr-gallery-lines-bars-and-markers-cohere-py)|[<img src=\"https://matplotlib.org/_images/sphx_glr_histogram_features_001.png\" width=\"200\">](https://matplotlib.org/gallery/statistics/histogram_features.html#sphx-glr-gallery-statistics-histogram-features-py)| [<img src=\"https://matplotlib.org/_images/sphx_glr_barchart_001.png\" width = \"200\">](https://matplotlib.org/gallery/lines_bars_and_markers/barchart.html#sphx-glr-gallery-lines-bars-and-markers-barchart-py)|[<img src=\"https://matplotlib.org/_images/sphx_glr_nested_pie_001.png\" width = \"200\">](https://matplotlib.org/gallery/pie_and_polar_charts/nested_pie.html#sphx-glr-gallery-pie-and-polar-charts-nested-pie-py)|\n",
    "\n",
    "|Area|Surfaces|Heatmaps|Scatterplots|\n",
    "| ----------- | ----------- |----------- |----------- |\n",
    "|[<img src=\"http://www.randalolson.com/wp-content/uploads/chess-number-ply-over-time.png\" width = \"200\">](http://spartanideas.msu.edu/2014/06/28/how-to-make-beautiful-data-visualizations-in-python-with-matplotlib/)|[<img src=\"https://2.bp.blogspot.com/-mbpB7BNRvfQ/Tw2d8DE2w6I/AAAAAAAAAOw/BCFqKTrvGa4/s320/2dfun.png\" width=\"200\">](https://glowingpython.blogspot.com/2012/01/how-to-plot-two-variable-functions-with.html)| [<img src=\"https://pythonspot-9329.kxcdn.com/wp-content/uploads/2016/07/matplot-heatmap.png\" width = \"200\">](https://pythonspot.com/generate-heatmap-in-matplotlib/)|[<img src=\"https://programandociencia.files.wordpress.com/2016/05/scatter_preliminaryii.jpg?w=656\" width = \"200\">](https://programandociencia.com/2016/05/12/complex-scatter-plots-on-python-part-ii-defining-colors-labels-and-title/)|\n",
    "\n",
    "\n",
    "\n",
    "\n",
    "|Boxplots|Errorbars|Violins|Beeswarm|\n",
    "| ----------- | ----------- |----------- |----------- |\n",
    "|[<img src=\"https://python-graph-gallery.com/wp-content/uploads/34_Grouped_Boxplot_Seaborn-e1499422451739.png\" width = \"200\">]()|[<img src=\"https://matplotlib.org/_images/sphx_glr_errorbar_subsample_001.png\" width=\"200\">](https://matplotlib.org/gallery/lines_bars_and_markers/errorbar_subsample.html#sphx-glr-gallery-lines-bars-and-markers-errorbar-subsample-py)| [<img src=\"https://matplotlib.org/_images/sphx_glr_customized_violin_001.png\" width = \"200\">](https://matplotlib.org/gallery/statistics/customized_violin.html#sphx-glr-gallery-statistics-customized-violin-py)|[<img src=\"https://i.stack.imgur.com/sUr2X.png\" width = \"200\">](https://stackoverflow.com/questions/36153410/how-to-create-swarm-plot-with-matplotlib)|\n",
    "\n",
    "\n",
    "|Force fields|Images|Animations|XKCD|\n",
    "| ----------- | ----------- |----------- |----------- |\n",
    "| [<img src=\"https://matplotlib.org/_images/sphx_glr_plot_streamplot_001.png\" width = \"200\">](https://matplotlib.org/gallery/images_contours_and_fields/plot_streamplot.html#sphx-glr-gallery-images-contours-and-fields-plot-streamplot-py)|[<img src=\"https://matplotlib.org/_static/logo2.png\" width = \"200\">](https://matplotlib.org/gallery/images_contours_and_fields/image_demo.html#sphx-glr-gallery-images-contours-and-fields-image-demo-py)|[<img src=\"https://python-graph-gallery.com/wp-content/uploads/animated_gapminder.gif\" width=\"200\">](https://python-graph-gallery.com/341-python-gapminder-animation/)|[<img src=\"https://matplotlib.org/_images/sphx_glr_xkcd_001.png\" width = \"200\">](https://matplotlib.org/gallery/showcase/xkcd.html#sphx-glr-gallery-showcase-xkcd-py)|\n",
    "\n"
   ]
  },
  {
   "cell_type": "markdown",
   "metadata": {},
   "source": [
    "## 4. Good plotting practice\n",
    "\n",
    "Plots help you to get your message to the audience/readers - use them whenever you can! However, try to not get carried away - only plot what helps you make your point, resist the urge of making thing pretty at the cost of clarity. \n",
    "\n",
    "Some other general recommendations (in random order):\n",
    "\n",
    "- always add axis ticks and their labels (not too many, in readable font)\n",
    "- grids help guiding the eye and to compare values\n",
    "- legends, always\n",
    "- avoid clutter and too messy plots\n",
    "- really large font sizes\n",
    "- clearly distinguishable colors (of your liking)\n",
    "- one statement per plot\n",
    "- don't do fancy plot types (unless they are really, really specifically for what you want to say)\n",
    "- avoid 3D if possible"
   ]
  },
  {
   "cell_type": "markdown",
   "metadata": {},
   "source": [
    "# Example 1: Plotting the Simulation results of a Tellurium Model\n",
    "\n",
    "Let's bother the  ```simple_model``` again (beauty comes by repetition?)\n",
    "\n",
    "You know already how to use the built-in plotting "
   ]
  },
  {
   "cell_type": "code",
   "execution_count": null,
   "metadata": {},
   "outputs": [],
   "source": [
    "# import tellurium, load and simulate the simple_model\n",
    "import tellurium as te\n",
    "\n",
    "simple_model = \"\"\"\n",
    "# Reactions\n",
    "R1: A -> B; k1 * A;\n",
    "R2: B -> A; k2 * B;\n",
    "\n",
    "# Initial values\n",
    "A = 10; \n",
    "B = 0;\n",
    "\n",
    "# Parameters\n",
    "k1 = 0.1;\n",
    "k2 = 0.01;\n",
    "\"\"\"\n",
    "# load model from string\n",
    "rr = te.loada(simple_model)\n",
    "# Simulate model\n",
    "result = rr.simulate (0, 100, selections=['time','A','B'])"
   ]
  },
  {
   "cell_type": "code",
   "execution_count": null,
   "metadata": {},
   "outputs": [],
   "source": [
    "## Tellurium built in plotting routine \n",
    "# Can work with all the usual matplotlib properties\n",
    "rr.plot(result)"
   ]
  },
  {
   "cell_type": "code",
   "execution_count": null,
   "metadata": {},
   "outputs": [],
   "source": [
    "## Directly via matplotlib on the result\n",
    "#print(result)\n",
    "\n",
    "# figure and axes\n",
    "fig = plt.figure()\n",
    "ax = plt.axes()\n",
    "\n",
    "\n",
    "ax.plot(result['time'],result['A'],label = 'ATP',linewidth = 3)\n",
    "ax.plot(result['time'],result['B'],label = 'ADP',linewidth = 3)\n",
    "\n",
    "#ax.set_title('Time evolution of the simple model',fontsize = 16,fontweight = 'bold'); # title\n",
    "#ax.set_ylabel('Particle number',fontsize = 16)\n",
    "#ax.set_xlabel('time [s]',fontsize = 16)\n",
    "#ax.tick_params(labelsize = 14)\n",
    "#ax.legend(fontsize = 14)\n"
   ]
  }
 ],
 "metadata": {
  "kernelspec": {
   "display_name": "Python 3",
   "language": "python",
   "name": "python3"
  },
  "language_info": {
   "codemirror_mode": {
    "name": "ipython",
    "version": 3
   },
   "file_extension": ".py",
   "mimetype": "text/x-python",
   "name": "python",
   "nbconvert_exporter": "python",
   "pygments_lexer": "ipython3",
   "version": "3.5.2"
  }
 },
 "nbformat": 4,
 "nbformat_minor": 2
}
